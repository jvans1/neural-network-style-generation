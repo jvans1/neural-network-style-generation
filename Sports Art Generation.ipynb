{
 "cells": [
  {
   "cell_type": "code",
   "execution_count": 56,
   "metadata": {
    "collapsed": false
   },
   "outputs": [],
   "source": [
    "import torchvision.models as models\n",
    "import torch\n",
    "import numpy as np\n",
    "import torch.nn as nn\n",
    "import utils as U;reload(U)\n",
    "from torch.autograd import Variable\n",
    "import torch.optim as optim\n",
    "%matplotlib inline"
   ]
  },
  {
   "cell_type": "markdown",
   "metadata": {},
   "source": [
    "# Loss functions"
   ]
  },
  {
   "cell_type": "code",
   "execution_count": 57,
   "metadata": {
    "collapsed": true
   },
   "outputs": [],
   "source": [
    "vgg = models.vgg16(pretrained=True)"
   ]
  },
  {
   "cell_type": "code",
   "execution_count": 58,
   "metadata": {
    "collapsed": false
   },
   "outputs": [],
   "source": [
    "loss = nn.MSELoss()\n",
    "def content_loss(generated_image, content_image):\n",
    "    pred = vgg.predict(content_image)\n",
    "    original = vgg.predict(original_image)\n",
    "    return loss(pred, original)"
   ]
  },
  {
   "cell_type": "markdown",
   "metadata": {},
   "source": [
    "### Using the content_loss function, recreate our image from random noise"
   ]
  },
  {
   "cell_type": "code",
   "execution_count": 63,
   "metadata": {
    "collapsed": false
   },
   "outputs": [],
   "source": [
    "original_image = U.folder[0][0]\n",
    "rand = torch.rand(3,256, 256)\n",
    "noise = Variable(ran, requires_grad=True)\n",
    "optimizer = optim.SGD([noise], lr=0.001)"
   ]
  },
  {
   "cell_type": "code",
   "execution_count": 77,
   "metadata": {
    "collapsed": false
   },
   "outputs": [
    {
     "data": {
      "text/plain": [
       "\n",
       "( 0  ,.,.) = \n",
       "  1.2214  1.1358  1.0502  ...   2.2489  2.2489  2.2489\n",
       "  1.0844  1.0502  1.0331  ...   2.2489  2.2489  2.2489\n",
       "  1.0502  1.0159  0.9988  ...   2.2489  2.2489  2.2489\n",
       "           ...             ⋱             ...          \n",
       " -0.8849 -0.9192 -0.6794  ...  -1.3987 -1.3815 -1.3130\n",
       " -0.2684 -0.2684 -0.0972  ...  -1.3987 -1.3644 -1.3130\n",
       "  0.5193  0.6221  0.6221  ...  -1.3644 -1.3473 -1.2959\n",
       "\n",
       "( 1  ,.,.) = \n",
       "  1.4657  1.3782  1.2906  ...   2.4286  2.4286  2.4286\n",
       "  1.3256  1.2906  1.2731  ...   2.4286  2.4286  2.4286\n",
       "  1.2906  1.2556  1.2381  ...   2.4286  2.4286  2.4286\n",
       "           ...             ⋱             ...          \n",
       " -0.6527 -0.6877 -0.4426  ...  -1.0728 -1.0553 -0.9853\n",
       " -0.0224 -0.0224  0.1527  ...  -1.0728 -1.0378 -0.9853\n",
       "  0.7829  0.8880  0.8880  ...  -1.0378 -1.0203 -0.9678\n",
       "\n",
       "( 2  ,.,.) = \n",
       "  1.1237  1.0365  0.9494  ...   2.6400  2.6400  2.6400\n",
       "  0.9842  0.9494  0.9319  ...   2.6400  2.6400  2.6400\n",
       "  0.9494  0.9145  0.8971  ...   2.6400  2.6400  2.6400\n",
       "           ...             ⋱             ...          \n",
       " -1.0027 -1.0376 -0.7936  ...  -1.2990 -1.2816 -1.2119\n",
       " -0.3753 -0.3753 -0.2010  ...  -1.2990 -1.2641 -1.2119\n",
       "  0.4265  0.5311  0.5311  ...  -1.2641 -1.2467 -1.1944\n",
       "[torch.FloatTensor of size 3x3109x1888]"
      ]
     },
     "execution_count": 77,
     "metadata": {},
     "output_type": "execute_result"
    }
   ],
   "source": [
    "#U.imshow(original_image)\n",
    "#U.imshow(noise - 0.5)\n",
    "original_image\n",
    "#print(noise[0] - 0.5)\n",
    "#print(original_image[0])"
   ]
  },
  {
   "cell_type": "code",
   "execution_count": 49,
   "metadata": {
    "collapsed": false
   },
   "outputs": [],
   "source": [
    "loss(noise, original_image)\n",
    "loss.backward()\n",
    "optimizier.step()"
   ]
  },
  {
   "cell_type": "markdown",
   "metadata": {},
   "source": [
    "# Combine and minimize"
   ]
  },
  {
   "cell_type": "code",
   "execution_count": null,
   "metadata": {
    "collapsed": true
   },
   "outputs": [],
   "source": []
  }
 ],
 "metadata": {
  "kernelspec": {
   "display_name": "Python 2",
   "language": "python",
   "name": "python2"
  },
  "language_info": {
   "codemirror_mode": {
    "name": "ipython",
    "version": 2
   },
   "file_extension": ".py",
   "mimetype": "text/x-python",
   "name": "python",
   "nbconvert_exporter": "python",
   "pygments_lexer": "ipython2",
   "version": "2.7.13"
  }
 },
 "nbformat": 4,
 "nbformat_minor": 2
}
